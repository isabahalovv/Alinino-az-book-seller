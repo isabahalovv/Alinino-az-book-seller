{
 "cells": [
  {
   "cell_type": "code",
   "execution_count": 78,
   "id": "09a5d8bc",
   "metadata": {},
   "outputs": [],
   "source": [
    "from bs4 import BeautifulSoup as bs\n",
    "import requests\n",
    "import pandas as pd\n",
    "import time"
   ]
  },
  {
   "cell_type": "code",
   "execution_count": 64,
   "id": "c0df32d4",
   "metadata": {},
   "outputs": [],
   "source": [
    "class Alinona:\n",
    "    def __init__(self, base_url, num_of_page, url_for_pages):\n",
    "        self.base_url = base_url\n",
    "        self.num_of_page = num_of_page\n",
    "        self.url_for_pages = url_for_pages\n",
    "        \n",
    "    def getting_links(self):\n",
    "        all_links = []\n",
    "        \n",
    "        for x in range(1, self.num_of_page + 1):\n",
    "            request = requests.get(self.url_for_pages.format(x))\n",
    "            soup = bs(request.content, 'html.parser')\n",
    "            \n",
    "            divs = soup.find_all('div', {'class':'product-card-image'})\n",
    "            links_each_page = []\n",
    "            \n",
    "            for div in divs:\n",
    "                links_each_page.append(self.base_url + div.a['href'])\n",
    "            \n",
    "            all_links.extend(links_each_page)\n",
    "            \n",
    "        return all_links"
   ]
  },
  {
   "cell_type": "markdown",
   "id": "c8ef0835",
   "metadata": {},
   "source": [
    "## ========================================================================"
   ]
  },
  {
   "cell_type": "markdown",
   "id": "359474fd",
   "metadata": {},
   "source": [
    "### Links for az"
   ]
  },
  {
   "cell_type": "code",
   "execution_count": 65,
   "id": "b00eaddd",
   "metadata": {},
   "outputs": [],
   "source": [
    "az = Alinona('https://alinino.az/', 75, 'https://alinino.az/collection/knigi-na-azerbaydzhanskom-yazyke?page={}')"
   ]
  },
  {
   "cell_type": "code",
   "execution_count": 72,
   "id": "98536d71",
   "metadata": {},
   "outputs": [
    {
     "name": "stdout",
     "output_type": "stream",
     "text": [
      "Seconds :  250.3974552154541\n"
     ]
    }
   ],
   "source": [
    "tic = time.time()\n",
    "\n",
    "links_for_az = az.getting_links()\n",
    "\n",
    "toc = time.time()\n",
    "print('Seconds : ', toc - tic)"
   ]
  },
  {
   "cell_type": "code",
   "execution_count": 80,
   "id": "f747c6c1",
   "metadata": {},
   "outputs": [],
   "source": [
    "df = pd.DataFrame({'Links':links_for_az})\n",
    "df.to_csv('Az Links.csv', index=False)"
   ]
  },
  {
   "cell_type": "markdown",
   "id": "fe0c17ee",
   "metadata": {},
   "source": [
    "## ========================================================================"
   ]
  },
  {
   "cell_type": "markdown",
   "id": "e1ac45b5",
   "metadata": {},
   "source": [
    "### Links for ru"
   ]
  },
  {
   "cell_type": "code",
   "execution_count": 83,
   "id": "6ee1b568",
   "metadata": {},
   "outputs": [],
   "source": [
    "ru = Alinona('https://alinino.az/', 380, 'https://alinino.az/collection/knigi-na-russkom-yazyke?page={}')"
   ]
  },
  {
   "cell_type": "code",
   "execution_count": 84,
   "id": "2804ee11",
   "metadata": {},
   "outputs": [
    {
     "name": "stdout",
     "output_type": "stream",
     "text": [
      "Seconds :  1928.3169131278992\n"
     ]
    }
   ],
   "source": [
    "tic = time.time()\n",
    "\n",
    "links_for_ru = ru.getting_links()\n",
    "\n",
    "toc = time.time()\n",
    "print('Seconds : ', toc - tic)"
   ]
  },
  {
   "cell_type": "code",
   "execution_count": 86,
   "id": "8c86f252",
   "metadata": {},
   "outputs": [],
   "source": [
    "df = pd.DataFrame({'Links':links_for_ru})\n",
    "df.to_csv('Ru Links.csv', index=False)"
   ]
  },
  {
   "cell_type": "markdown",
   "id": "47313dc8",
   "metadata": {},
   "source": [
    "## ========================================================================"
   ]
  },
  {
   "cell_type": "markdown",
   "id": "e2220b94",
   "metadata": {},
   "source": [
    "### Links for en"
   ]
  },
  {
   "cell_type": "code",
   "execution_count": 88,
   "id": "4c38ae1f",
   "metadata": {},
   "outputs": [],
   "source": [
    "en = Alinona('https://alinino.az/', 222, 'https://alinino.az/collection/knigi-na-angliyskom-yazyke?page={}')"
   ]
  },
  {
   "cell_type": "code",
   "execution_count": 89,
   "id": "aaf4b3d6",
   "metadata": {},
   "outputs": [
    {
     "name": "stdout",
     "output_type": "stream",
     "text": [
      "Seconds :  646.727686882019\n"
     ]
    }
   ],
   "source": [
    "tic = time.time()\n",
    "\n",
    "links_for_en = en.getting_links()\n",
    "\n",
    "toc = time.time()\n",
    "print('Seconds : ', toc - tic)"
   ]
  },
  {
   "cell_type": "code",
   "execution_count": 90,
   "id": "f55b1728",
   "metadata": {},
   "outputs": [],
   "source": [
    "df = pd.DataFrame({'Links':links_for_en})\n",
    "df.to_csv('En Links.csv', index=False)"
   ]
  },
  {
   "cell_type": "markdown",
   "id": "f5b8f93a",
   "metadata": {},
   "source": [
    "## ========================================================================"
   ]
  },
  {
   "cell_type": "markdown",
   "id": "251a0c32",
   "metadata": {},
   "source": [
    "### Links for tr"
   ]
  },
  {
   "cell_type": "code",
   "execution_count": 92,
   "id": "6baec9f8",
   "metadata": {},
   "outputs": [],
   "source": [
    "tr = Alinona('https://alinino.az/', 110, 'https://alinino.az/collection/knigi-na-turetskom-yazyke?page={}')"
   ]
  },
  {
   "cell_type": "code",
   "execution_count": 93,
   "id": "f8cfbed7",
   "metadata": {},
   "outputs": [
    {
     "name": "stdout",
     "output_type": "stream",
     "text": [
      "Seconds :  315.445170879364\n"
     ]
    }
   ],
   "source": [
    "tic = time.time()\n",
    "\n",
    "links_for_tr = tr.getting_links()\n",
    "\n",
    "toc = time.time()\n",
    "print('Seconds : ', toc - tic)"
   ]
  },
  {
   "cell_type": "code",
   "execution_count": 94,
   "id": "5517bf0e",
   "metadata": {},
   "outputs": [],
   "source": [
    "df = pd.DataFrame({'Links':links_for_tr})\n",
    "df.to_csv('Tr Links.csv', index=False)"
   ]
  },
  {
   "cell_type": "code",
   "execution_count": 95,
   "id": "78b3f741",
   "metadata": {},
   "outputs": [
    {
     "data": {
      "text/html": [
       "<div>\n",
       "<style scoped>\n",
       "    .dataframe tbody tr th:only-of-type {\n",
       "        vertical-align: middle;\n",
       "    }\n",
       "\n",
       "    .dataframe tbody tr th {\n",
       "        vertical-align: top;\n",
       "    }\n",
       "\n",
       "    .dataframe thead th {\n",
       "        text-align: right;\n",
       "    }\n",
       "</style>\n",
       "<table border=\"1\" class=\"dataframe\">\n",
       "  <thead>\n",
       "    <tr style=\"text-align: right;\">\n",
       "      <th></th>\n",
       "      <th>Links</th>\n",
       "    </tr>\n",
       "  </thead>\n",
       "  <tbody>\n",
       "    <tr>\n",
       "      <th>0</th>\n",
       "      <td>https://alinino.az//product/yeniden-dogus</td>\n",
       "    </tr>\n",
       "    <tr>\n",
       "      <th>1</th>\n",
       "      <td>https://alinino.az//product/tabancali-kiz</td>\n",
       "    </tr>\n",
       "    <tr>\n",
       "      <th>2</th>\n",
       "      <td>https://alinino.az//product/aptallar-erken-olur</td>\n",
       "    </tr>\n",
       "    <tr>\n",
       "      <th>3</th>\n",
       "      <td>https://alinino.az//product/nisanliya-mektupla...</td>\n",
       "    </tr>\n",
       "    <tr>\n",
       "      <th>4</th>\n",
       "      <td>https://alinino.az//product/tarih-notlari</td>\n",
       "    </tr>\n",
       "    <tr>\n",
       "      <th>...</th>\n",
       "      <td>...</td>\n",
       "    </tr>\n",
       "    <tr>\n",
       "      <th>4605</th>\n",
       "      <td>https://alinino.az//product/mekanik-prens-2</td>\n",
       "    </tr>\n",
       "    <tr>\n",
       "      <th>4606</th>\n",
       "      <td>https://alinino.az//product/taht-oyunlari</td>\n",
       "    </tr>\n",
       "    <tr>\n",
       "      <th>4607</th>\n",
       "      <td>https://alinino.az//product/labirent-alev-dene...</td>\n",
       "    </tr>\n",
       "    <tr>\n",
       "      <th>4608</th>\n",
       "      <td>https://alinino.az//product/gregor-yeralti-gun...</td>\n",
       "    </tr>\n",
       "    <tr>\n",
       "      <th>4609</th>\n",
       "      <td>https://alinino.az//product/kemikler-sehri</td>\n",
       "    </tr>\n",
       "  </tbody>\n",
       "</table>\n",
       "<p>4610 rows × 1 columns</p>\n",
       "</div>"
      ],
      "text/plain": [
       "                                                  Links\n",
       "0            https://alinino.az//product/yeniden-dogus \n",
       "1            https://alinino.az//product/tabancali-kiz \n",
       "2      https://alinino.az//product/aptallar-erken-olur \n",
       "3     https://alinino.az//product/nisanliya-mektupla...\n",
       "4            https://alinino.az//product/tarih-notlari \n",
       "...                                                 ...\n",
       "4605       https://alinino.az//product/mekanik-prens-2 \n",
       "4606         https://alinino.az//product/taht-oyunlari \n",
       "4607  https://alinino.az//product/labirent-alev-dene...\n",
       "4608  https://alinino.az//product/gregor-yeralti-gun...\n",
       "4609        https://alinino.az//product/kemikler-sehri \n",
       "\n",
       "[4610 rows x 1 columns]"
      ]
     },
     "execution_count": 95,
     "metadata": {},
     "output_type": "execute_result"
    }
   ],
   "source": [
    "df"
   ]
  },
  {
   "cell_type": "markdown",
   "id": "7d961f3d",
   "metadata": {},
   "source": [
    "## ========================================================================"
   ]
  }
 ],
 "metadata": {
  "kernelspec": {
   "display_name": "Python 3",
   "language": "python",
   "name": "python3"
  },
  "language_info": {
   "codemirror_mode": {
    "name": "ipython",
    "version": 3
   },
   "file_extension": ".py",
   "mimetype": "text/x-python",
   "name": "python",
   "nbconvert_exporter": "python",
   "pygments_lexer": "ipython3",
   "version": "3.9.1"
  }
 },
 "nbformat": 4,
 "nbformat_minor": 5
}
