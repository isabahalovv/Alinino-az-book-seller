{
 "cells": [
  {
   "cell_type": "code",
   "execution_count": 1,
   "id": "6b158628",
   "metadata": {},
   "outputs": [],
   "source": [
    "import pandas as pd\n",
    "import requests\n",
    "from bs4 import BeautifulSoup as bs"
   ]
  },
  {
   "cell_type": "code",
   "execution_count": 2,
   "id": "8cdb228b",
   "metadata": {
    "scrolled": true
   },
   "outputs": [
    {
     "data": {
      "text/plain": [
       "32910"
      ]
     },
     "execution_count": 2,
     "metadata": {},
     "output_type": "execute_result"
    }
   ],
   "source": [
    "all_links = pd.read_csv(\"All links.csv\")\n",
    "\n",
    "all_links = all_links['Links'].to_list()\n",
    "\n",
    "len(all_links)"
   ]
  },
  {
   "cell_type": "markdown",
   "id": "faa4b4df",
   "metadata": {},
   "source": [
    "### ----------------------------------------------------------------------------------------------------------------------------------------------------------------"
   ]
  },
  {
   "cell_type": "markdown",
   "id": "86717bbe",
   "metadata": {},
   "source": [
    "### 0 - 5k"
   ]
  },
  {
   "cell_type": "code",
   "execution_count": 3,
   "id": "500967e1",
   "metadata": {},
   "outputs": [],
   "source": [
    "part1 = all_links[0:5001]"
   ]
  },
  {
   "cell_type": "markdown",
   "id": "3d5e7c70",
   "metadata": {},
   "source": [
    "### ----------------------------------------------------------------------------------------------------------------------------------------------------------------"
   ]
  },
  {
   "cell_type": "markdown",
   "id": "137d958b",
   "metadata": {},
   "source": [
    "### 5 - 10k"
   ]
  },
  {
   "cell_type": "code",
   "execution_count": 4,
   "id": "eac2112f",
   "metadata": {},
   "outputs": [],
   "source": [
    "part2 = all_links[5001:10001]"
   ]
  },
  {
   "cell_type": "markdown",
   "id": "9ff44a45",
   "metadata": {},
   "source": [
    "### ----------------------------------------------------------------------------------------------------------------------------------------------------------------"
   ]
  },
  {
   "cell_type": "markdown",
   "id": "446bfa32",
   "metadata": {},
   "source": [
    "### 10 - 15k"
   ]
  },
  {
   "cell_type": "code",
   "execution_count": 5,
   "id": "bbfca084",
   "metadata": {},
   "outputs": [],
   "source": [
    "part3 = all_links[10001:15001]"
   ]
  },
  {
   "cell_type": "markdown",
   "id": "56026f92",
   "metadata": {},
   "source": [
    "### ----------------------------------------------------------------------------------------------------------------------------------------------------------------"
   ]
  },
  {
   "cell_type": "markdown",
   "id": "143206d9",
   "metadata": {},
   "source": [
    "### 15 - 20k"
   ]
  },
  {
   "cell_type": "code",
   "execution_count": 6,
   "id": "8aba1cd7",
   "metadata": {},
   "outputs": [],
   "source": [
    "part4 = all_links[15001:20001]"
   ]
  },
  {
   "cell_type": "markdown",
   "id": "fa1b71a3",
   "metadata": {},
   "source": [
    "### ----------------------------------------------------------------------------------------------------------------------------------------------------------------"
   ]
  },
  {
   "cell_type": "markdown",
   "id": "36d8b3b3",
   "metadata": {},
   "source": [
    "### 20 - 25k"
   ]
  },
  {
   "cell_type": "code",
   "execution_count": 7,
   "id": "c65a167e",
   "metadata": {},
   "outputs": [],
   "source": [
    "part5 = all_links[20001:25001]"
   ]
  },
  {
   "cell_type": "markdown",
   "id": "3b9b9c30",
   "metadata": {},
   "source": [
    "### ----------------------------------------------------------------------------------------------------------------------------------------------------------------"
   ]
  },
  {
   "cell_type": "markdown",
   "id": "1d3e0d35",
   "metadata": {},
   "source": [
    "### 25 - 30k"
   ]
  },
  {
   "cell_type": "code",
   "execution_count": 8,
   "id": "2b867e69",
   "metadata": {},
   "outputs": [],
   "source": [
    "part6 = all_links[25001:30001]"
   ]
  },
  {
   "cell_type": "markdown",
   "id": "1e719429",
   "metadata": {},
   "source": [
    "### ----------------------------------------------------------------------------------------------------------------------------------------------------------------"
   ]
  },
  {
   "cell_type": "markdown",
   "id": "fac83ed7",
   "metadata": {},
   "source": [
    "### 30k - 33k"
   ]
  },
  {
   "cell_type": "code",
   "execution_count": 9,
   "id": "c6a69e5b",
   "metadata": {},
   "outputs": [],
   "source": [
    "part7 = all_links[30001::]"
   ]
  },
  {
   "cell_type": "markdown",
   "id": "3ee30ec1",
   "metadata": {},
   "source": [
    "### ----------------------------------------------------------------------------------------------------------------------------------------------------------------"
   ]
  },
  {
   "cell_type": "code",
   "execution_count": 20,
   "id": "021c6018",
   "metadata": {},
   "outputs": [
    {
     "data": {
      "text/plain": [
       "'https://alinino.az//product/uroki-dyhaniya '"
      ]
     },
     "execution_count": 20,
     "metadata": {},
     "output_type": "execute_result"
    }
   ],
   "source": [
    "part7[2000]"
   ]
  },
  {
   "cell_type": "code",
   "execution_count": 10,
   "id": "b274858f",
   "metadata": {},
   "outputs": [
    {
     "name": "stdout",
     "output_type": "stream",
     "text": [
      "20 %\n",
      "40 %\n",
      "60 %\n",
      "80 %\n",
      "90 %\n"
     ]
    }
   ],
   "source": [
    "main_specs = ['Janr', 'Nəşriyyat', 'Cild', 'Müəllif', 'Səhifə sayı', 'dil']\n",
    "janrlar, nesriyyatlar, cildler, muellifler, seh_saylari, diller, qiymetler = [], [], [], [], [], [], []\n",
    "\n",
    "for url in part7:\n",
    "    request = requests.get(url)\n",
    "    soup = bs(request.content, 'html.parser')\n",
    "    \n",
    "    if url == part7[600]:\n",
    "        print('20 %')\n",
    "    elif url == part7[1200]:\n",
    "        print('40 %')\n",
    "    elif url == part7[1800]:\n",
    "        print('60 %')\n",
    "    elif url == part7[2400]:\n",
    "        print('80 %')\n",
    "    elif url == part7[2700]:\n",
    "        print('90 %')\n",
    "            \n",
    "    all_ = soup.find_all('div', {'class':'properties_item_dop'})\n",
    "\n",
    "    all_ = [a.text.split(':') for a in all_]\n",
    "    all_ = [[x.strip(' \\n') for x in a] for a in all_]\n",
    "        \n",
    "    specs_dict = {}\n",
    "\n",
    "    for x in all_:\n",
    "        specs_dict[x[0]] = x[1]\n",
    "    \n",
    "    try:\n",
    "        qiymet = soup.find('div', {'class':'price js-product-price on-page'}).string.rstrip('\\xa0AZN')\n",
    "    \n",
    "    except:\n",
    "        continue\n",
    "        \n",
    "            \n",
    "    if set(main_specs).issubset(set(specs_dict.keys())):\n",
    "        janr, nesriyyat, cild, muellif, seh_sayi, dil = specs_dict['Janr'], specs_dict['Nəşriyyat'], specs_dict['Cild'], specs_dict['Müəllif'], specs_dict['Səhifə sayı'], specs_dict['dil']\n",
    "\n",
    "        janrlar.append(janr)\n",
    "        nesriyyatlar.append(nesriyyat)\n",
    "        cildler.append(cild)\n",
    "        muellifler.append(muellif)\n",
    "        seh_saylari.append(seh_sayi)\n",
    "        diller.append(dil)\n",
    "        qiymetler.append(qiymet)\n",
    "    \n",
    "    else:\n",
    "        continue"
   ]
  },
  {
   "cell_type": "code",
   "execution_count": 11,
   "id": "39c770b6",
   "metadata": {
    "scrolled": true
   },
   "outputs": [
    {
     "data": {
      "text/plain": [
       "0"
      ]
     },
     "execution_count": 11,
     "metadata": {},
     "output_type": "execute_result"
    }
   ],
   "source": [
    "len(qiymetler)"
   ]
  },
  {
   "cell_type": "code",
   "execution_count": 12,
   "id": "ed109da8",
   "metadata": {},
   "outputs": [
    {
     "data": {
      "text/html": [
       "<div>\n",
       "<style scoped>\n",
       "    .dataframe tbody tr th:only-of-type {\n",
       "        vertical-align: middle;\n",
       "    }\n",
       "\n",
       "    .dataframe tbody tr th {\n",
       "        vertical-align: top;\n",
       "    }\n",
       "\n",
       "    .dataframe thead th {\n",
       "        text-align: right;\n",
       "    }\n",
       "</style>\n",
       "<table border=\"1\" class=\"dataframe\">\n",
       "  <thead>\n",
       "    <tr style=\"text-align: right;\">\n",
       "      <th></th>\n",
       "      <th>Janr</th>\n",
       "      <th>Nesriyyat</th>\n",
       "      <th>Cild</th>\n",
       "      <th>Muellif</th>\n",
       "      <th>Sehife sayi</th>\n",
       "      <th>Dil</th>\n",
       "      <th>Qiymet</th>\n",
       "    </tr>\n",
       "  </thead>\n",
       "  <tbody>\n",
       "  </tbody>\n",
       "</table>\n",
       "</div>"
      ],
      "text/plain": [
       "Empty DataFrame\n",
       "Columns: [Janr, Nesriyyat, Cild, Muellif, Sehife sayi, Dil, Qiymet]\n",
       "Index: []"
      ]
     },
     "execution_count": 12,
     "metadata": {},
     "output_type": "execute_result"
    }
   ],
   "source": [
    "test_data = pd.DataFrame({'Janr' : janrlar, \n",
    "                          'Nesriyyat' : nesriyyatlar,\n",
    "                          'Cild' : cildler, \n",
    "                          'Muellif' : muellifler, \n",
    "                          'Sehife sayi' : seh_saylari, \n",
    "                          'Dil' : diller, \n",
    "                          'Qiymet' : qiymetler})\n",
    "\n",
    "test_data"
   ]
  },
  {
   "cell_type": "code",
   "execution_count": 12,
   "id": "a1a405d0",
   "metadata": {},
   "outputs": [],
   "source": [
    "test_data.to_csv('Alinona_part_6.csv', index=False)"
   ]
  }
 ],
 "metadata": {
  "kernelspec": {
   "display_name": "Python 3 (ipykernel)",
   "language": "python",
   "name": "python3"
  },
  "language_info": {
   "codemirror_mode": {
    "name": "ipython",
    "version": 3
   },
   "file_extension": ".py",
   "mimetype": "text/x-python",
   "name": "python",
   "nbconvert_exporter": "python",
   "pygments_lexer": "ipython3",
   "version": "3.10.7"
  }
 },
 "nbformat": 4,
 "nbformat_minor": 5
}
